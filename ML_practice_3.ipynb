{
 "cells": [
  {
   "cell_type": "code",
   "execution_count": 1,
   "metadata": {
    "id": "ZKkWixipNDyy"
   },
   "outputs": [
    {
     "data": {
      "text/html": [
       "<div>\n",
       "<style scoped>\n",
       "    .dataframe tbody tr th:only-of-type {\n",
       "        vertical-align: middle;\n",
       "    }\n",
       "\n",
       "    .dataframe tbody tr th {\n",
       "        vertical-align: top;\n",
       "    }\n",
       "\n",
       "    .dataframe thead th {\n",
       "        text-align: right;\n",
       "    }\n",
       "</style>\n",
       "<table border=\"1\" class=\"dataframe\">\n",
       "  <thead>\n",
       "    <tr style=\"text-align: right;\">\n",
       "      <th></th>\n",
       "      <th>Unnamed: 0</th>\n",
       "      <th>total_bill</th>\n",
       "      <th>tip</th>\n",
       "      <th>sex</th>\n",
       "      <th>smoker</th>\n",
       "      <th>day</th>\n",
       "      <th>time</th>\n",
       "      <th>size</th>\n",
       "    </tr>\n",
       "  </thead>\n",
       "  <tbody>\n",
       "    <tr>\n",
       "      <th>0</th>\n",
       "      <td>0</td>\n",
       "      <td>16.99</td>\n",
       "      <td>1.01</td>\n",
       "      <td>Female</td>\n",
       "      <td>No</td>\n",
       "      <td>Sun</td>\n",
       "      <td>Dinner</td>\n",
       "      <td>2</td>\n",
       "    </tr>\n",
       "    <tr>\n",
       "      <th>1</th>\n",
       "      <td>1</td>\n",
       "      <td>NaN</td>\n",
       "      <td>1.66</td>\n",
       "      <td>Male</td>\n",
       "      <td>No</td>\n",
       "      <td>Sun</td>\n",
       "      <td>Dinner</td>\n",
       "      <td>3</td>\n",
       "    </tr>\n",
       "    <tr>\n",
       "      <th>2</th>\n",
       "      <td>2</td>\n",
       "      <td>21.01</td>\n",
       "      <td>3.50</td>\n",
       "      <td>Male</td>\n",
       "      <td>No</td>\n",
       "      <td>Sun</td>\n",
       "      <td>Dinner</td>\n",
       "      <td>3</td>\n",
       "    </tr>\n",
       "    <tr>\n",
       "      <th>3</th>\n",
       "      <td>3</td>\n",
       "      <td>23.68</td>\n",
       "      <td>3.31</td>\n",
       "      <td>Male</td>\n",
       "      <td>No</td>\n",
       "      <td>Sun</td>\n",
       "      <td>Dinner</td>\n",
       "      <td>2</td>\n",
       "    </tr>\n",
       "    <tr>\n",
       "      <th>4</th>\n",
       "      <td>4</td>\n",
       "      <td>24.59</td>\n",
       "      <td>3.61</td>\n",
       "      <td>Female</td>\n",
       "      <td>No</td>\n",
       "      <td>Sun</td>\n",
       "      <td>Dinner</td>\n",
       "      <td>4</td>\n",
       "    </tr>\n",
       "    <tr>\n",
       "      <th>...</th>\n",
       "      <td>...</td>\n",
       "      <td>...</td>\n",
       "      <td>...</td>\n",
       "      <td>...</td>\n",
       "      <td>...</td>\n",
       "      <td>...</td>\n",
       "      <td>...</td>\n",
       "      <td>...</td>\n",
       "    </tr>\n",
       "    <tr>\n",
       "      <th>239</th>\n",
       "      <td>239</td>\n",
       "      <td>29.03</td>\n",
       "      <td>5.92</td>\n",
       "      <td>Male</td>\n",
       "      <td>No</td>\n",
       "      <td>Sat</td>\n",
       "      <td>Dinner</td>\n",
       "      <td>3</td>\n",
       "    </tr>\n",
       "    <tr>\n",
       "      <th>240</th>\n",
       "      <td>240</td>\n",
       "      <td>27.18</td>\n",
       "      <td>2.00</td>\n",
       "      <td>Female</td>\n",
       "      <td>Yes</td>\n",
       "      <td>Sat</td>\n",
       "      <td>Dinner</td>\n",
       "      <td>2</td>\n",
       "    </tr>\n",
       "    <tr>\n",
       "      <th>241</th>\n",
       "      <td>241</td>\n",
       "      <td>22.67</td>\n",
       "      <td>2.00</td>\n",
       "      <td>Male</td>\n",
       "      <td>Yes</td>\n",
       "      <td>Sat</td>\n",
       "      <td>Dinner</td>\n",
       "      <td>2</td>\n",
       "    </tr>\n",
       "    <tr>\n",
       "      <th>242</th>\n",
       "      <td>242</td>\n",
       "      <td>17.82</td>\n",
       "      <td>1.75</td>\n",
       "      <td>Male</td>\n",
       "      <td>No</td>\n",
       "      <td>Sat</td>\n",
       "      <td>Dinner</td>\n",
       "      <td>2</td>\n",
       "    </tr>\n",
       "    <tr>\n",
       "      <th>243</th>\n",
       "      <td>243</td>\n",
       "      <td>18.78</td>\n",
       "      <td>3.00</td>\n",
       "      <td>Female</td>\n",
       "      <td>No</td>\n",
       "      <td>Thur</td>\n",
       "      <td>Dinner</td>\n",
       "      <td>2</td>\n",
       "    </tr>\n",
       "  </tbody>\n",
       "</table>\n",
       "<p>244 rows × 8 columns</p>\n",
       "</div>"
      ],
      "text/plain": [
       "     Unnamed: 0  total_bill   tip     sex smoker   day    time  size\n",
       "0             0       16.99  1.01  Female     No   Sun  Dinner     2\n",
       "1             1         NaN  1.66    Male     No   Sun  Dinner     3\n",
       "2             2       21.01  3.50    Male     No   Sun  Dinner     3\n",
       "3             3       23.68  3.31    Male     No   Sun  Dinner     2\n",
       "4             4       24.59  3.61  Female     No   Sun  Dinner     4\n",
       "..          ...         ...   ...     ...    ...   ...     ...   ...\n",
       "239         239       29.03  5.92    Male     No   Sat  Dinner     3\n",
       "240         240       27.18  2.00  Female    Yes   Sat  Dinner     2\n",
       "241         241       22.67  2.00    Male    Yes   Sat  Dinner     2\n",
       "242         242       17.82  1.75    Male     No   Sat  Dinner     2\n",
       "243         243       18.78  3.00  Female     No  Thur  Dinner     2\n",
       "\n",
       "[244 rows x 8 columns]"
      ]
     },
     "execution_count": 1,
     "metadata": {},
     "output_type": "execute_result"
    }
   ],
   "source": [
    "#Read the tips dataset from the provided source only. Handle the missing values with the appropriate techniques.\n",
    "import pandas as pd\n",
    "import numpy as np\n",
    "import matplotlib.pyplot as plt\n",
    "%matplotlib inline\n",
    "df = pd.read_csv('tips.csv')\n",
    "df"
   ]
  },
  {
   "cell_type": "code",
   "execution_count": null,
   "metadata": {
    "colab": {
     "base_uri": "https://localhost:8080/"
    },
    "id": "8Gi84pBKQZOI",
    "outputId": "c267437c-0f62-4d40-e44f-99b214b8b73d"
   },
   "outputs": [
    {
     "name": "stdout",
     "output_type": "stream",
     "text": [
      "Missing values in the dataset:\n",
      "Unnamed: 0     0\n",
      "total_bill    39\n",
      "tip            0\n",
      "sex            0\n",
      "smoker         0\n",
      "day            0\n",
      "time           0\n",
      "size           0\n",
      "dtype: int64\n"
     ]
    }
   ],
   "source": [
    "import pandas as pd\n",
    "data = pd.read_csv('tips.csv')\n",
    "missing_values = data.isnull().sum()\n",
    "print(\"Missing values in the dataset:\")\n",
    "print(missing_values)"
   ]
  },
  {
   "cell_type": "code",
   "execution_count": 3,
   "metadata": {
    "id": "AML7TDlJSHYN"
   },
   "outputs": [
    {
     "data": {
      "text/html": [
       "<div>\n",
       "<style scoped>\n",
       "    .dataframe tbody tr th:only-of-type {\n",
       "        vertical-align: middle;\n",
       "    }\n",
       "\n",
       "    .dataframe tbody tr th {\n",
       "        vertical-align: top;\n",
       "    }\n",
       "\n",
       "    .dataframe thead th {\n",
       "        text-align: right;\n",
       "    }\n",
       "</style>\n",
       "<table border=\"1\" class=\"dataframe\">\n",
       "  <thead>\n",
       "    <tr style=\"text-align: right;\">\n",
       "      <th></th>\n",
       "      <th>Unnamed: 0</th>\n",
       "      <th>total_bill</th>\n",
       "      <th>tip</th>\n",
       "      <th>sex</th>\n",
       "      <th>smoker</th>\n",
       "      <th>day</th>\n",
       "      <th>time</th>\n",
       "      <th>size</th>\n",
       "    </tr>\n",
       "  </thead>\n",
       "  <tbody>\n",
       "    <tr>\n",
       "      <th>0</th>\n",
       "      <td>0</td>\n",
       "      <td>16.990000</td>\n",
       "      <td>1.01</td>\n",
       "      <td>Female</td>\n",
       "      <td>No</td>\n",
       "      <td>Sun</td>\n",
       "      <td>Dinner</td>\n",
       "      <td>2</td>\n",
       "    </tr>\n",
       "    <tr>\n",
       "      <th>1</th>\n",
       "      <td>1</td>\n",
       "      <td>21.360195</td>\n",
       "      <td>1.66</td>\n",
       "      <td>Male</td>\n",
       "      <td>No</td>\n",
       "      <td>Sun</td>\n",
       "      <td>Dinner</td>\n",
       "      <td>3</td>\n",
       "    </tr>\n",
       "    <tr>\n",
       "      <th>2</th>\n",
       "      <td>2</td>\n",
       "      <td>21.010000</td>\n",
       "      <td>3.50</td>\n",
       "      <td>Male</td>\n",
       "      <td>No</td>\n",
       "      <td>Sun</td>\n",
       "      <td>Dinner</td>\n",
       "      <td>3</td>\n",
       "    </tr>\n",
       "    <tr>\n",
       "      <th>3</th>\n",
       "      <td>3</td>\n",
       "      <td>23.680000</td>\n",
       "      <td>3.31</td>\n",
       "      <td>Male</td>\n",
       "      <td>No</td>\n",
       "      <td>Sun</td>\n",
       "      <td>Dinner</td>\n",
       "      <td>2</td>\n",
       "    </tr>\n",
       "    <tr>\n",
       "      <th>4</th>\n",
       "      <td>4</td>\n",
       "      <td>24.590000</td>\n",
       "      <td>3.61</td>\n",
       "      <td>Female</td>\n",
       "      <td>No</td>\n",
       "      <td>Sun</td>\n",
       "      <td>Dinner</td>\n",
       "      <td>4</td>\n",
       "    </tr>\n",
       "    <tr>\n",
       "      <th>...</th>\n",
       "      <td>...</td>\n",
       "      <td>...</td>\n",
       "      <td>...</td>\n",
       "      <td>...</td>\n",
       "      <td>...</td>\n",
       "      <td>...</td>\n",
       "      <td>...</td>\n",
       "      <td>...</td>\n",
       "    </tr>\n",
       "    <tr>\n",
       "      <th>239</th>\n",
       "      <td>239</td>\n",
       "      <td>29.030000</td>\n",
       "      <td>5.92</td>\n",
       "      <td>Male</td>\n",
       "      <td>No</td>\n",
       "      <td>Sat</td>\n",
       "      <td>Dinner</td>\n",
       "      <td>3</td>\n",
       "    </tr>\n",
       "    <tr>\n",
       "      <th>240</th>\n",
       "      <td>240</td>\n",
       "      <td>27.180000</td>\n",
       "      <td>2.00</td>\n",
       "      <td>Female</td>\n",
       "      <td>Yes</td>\n",
       "      <td>Sat</td>\n",
       "      <td>Dinner</td>\n",
       "      <td>2</td>\n",
       "    </tr>\n",
       "    <tr>\n",
       "      <th>241</th>\n",
       "      <td>241</td>\n",
       "      <td>22.670000</td>\n",
       "      <td>2.00</td>\n",
       "      <td>Male</td>\n",
       "      <td>Yes</td>\n",
       "      <td>Sat</td>\n",
       "      <td>Dinner</td>\n",
       "      <td>2</td>\n",
       "    </tr>\n",
       "    <tr>\n",
       "      <th>242</th>\n",
       "      <td>242</td>\n",
       "      <td>17.820000</td>\n",
       "      <td>1.75</td>\n",
       "      <td>Male</td>\n",
       "      <td>No</td>\n",
       "      <td>Sat</td>\n",
       "      <td>Dinner</td>\n",
       "      <td>2</td>\n",
       "    </tr>\n",
       "    <tr>\n",
       "      <th>243</th>\n",
       "      <td>243</td>\n",
       "      <td>18.780000</td>\n",
       "      <td>3.00</td>\n",
       "      <td>Female</td>\n",
       "      <td>No</td>\n",
       "      <td>Thur</td>\n",
       "      <td>Dinner</td>\n",
       "      <td>2</td>\n",
       "    </tr>\n",
       "  </tbody>\n",
       "</table>\n",
       "<p>244 rows × 8 columns</p>\n",
       "</div>"
      ],
      "text/plain": [
       "     Unnamed: 0  total_bill   tip     sex smoker   day    time  size\n",
       "0             0   16.990000  1.01  Female     No   Sun  Dinner     2\n",
       "1             1   21.360195  1.66    Male     No   Sun  Dinner     3\n",
       "2             2   21.010000  3.50    Male     No   Sun  Dinner     3\n",
       "3             3   23.680000  3.31    Male     No   Sun  Dinner     2\n",
       "4             4   24.590000  3.61  Female     No   Sun  Dinner     4\n",
       "..          ...         ...   ...     ...    ...   ...     ...   ...\n",
       "239         239   29.030000  5.92    Male     No   Sat  Dinner     3\n",
       "240         240   27.180000  2.00  Female    Yes   Sat  Dinner     2\n",
       "241         241   22.670000  2.00    Male    Yes   Sat  Dinner     2\n",
       "242         242   17.820000  1.75    Male     No   Sat  Dinner     2\n",
       "243         243   18.780000  3.00  Female     No  Thur  Dinner     2\n",
       "\n",
       "[244 rows x 8 columns]"
      ]
     },
     "execution_count": 3,
     "metadata": {},
     "output_type": "execute_result"
    }
   ],
   "source": [
    "df['total_bill'] = df['total_bill'].fillna(df['total_bill'].mean())\n",
    "df"
   ]
  },
  {
   "cell_type": "code",
   "execution_count": null,
   "metadata": {
    "colab": {
     "base_uri": "https://localhost:8080/"
    },
    "id": "Tgr9HBiUULXB",
    "outputId": "4859ed3b-793c-4cb7-9acd-cf40662d43a3"
   },
   "outputs": [
    {
     "data": {
      "text/plain": [
       "(244, 10)"
      ]
     },
     "execution_count": 32,
     "metadata": {},
     "output_type": "execute_result"
    }
   ],
   "source": [
    "df = pd.get_dummies(data,drop_first=True)\n",
    "df.shape"
   ]
  },
  {
   "cell_type": "code",
   "execution_count": null,
   "metadata": {
    "colab": {
     "base_uri": "https://localhost:8080/"
    },
    "id": "VluKHLYIUQgs",
    "outputId": "5d281efd-0698-4f8b-d116-d8f9af42b8dc"
   },
   "outputs": [
    {
     "name": "stdout",
     "output_type": "stream",
     "text": [
      "   total_bill   tip     sex smoker  day    time  size\n",
      "0       16.99  1.01  Female     No  Sun  Dinner     2\n",
      "1       10.34  1.66    Male     No  Sun  Dinner     3\n",
      "2       21.01  3.50    Male     No  Sun  Dinner     3\n",
      "3       23.68  3.31    Male     No  Sun  Dinner     2\n",
      "4       24.59  3.61  Female     No  Sun  Dinner     4\n",
      "   total_bill   tip    time  size  sex_Male  sex_Female  smoker_Yes  \\\n",
      "0       16.99  1.01  Dinner     2         0           1           0   \n",
      "1       10.34  1.66  Dinner     3         1           0           0   \n",
      "2       21.01  3.50  Dinner     3         1           0           0   \n",
      "3       23.68  3.31  Dinner     2         1           0           0   \n",
      "4       24.59  3.61  Dinner     4         0           1           0   \n",
      "\n",
      "   smoker_No  day_Thur  day_Fri  day_Sat  day_Sun  \n",
      "0          1         0        0        0        1  \n",
      "1          1         0        0        0        1  \n",
      "2          1         0        0        0        1  \n",
      "3          1         0        0        0        1  \n",
      "4          1         0        0        0        1  \n"
     ]
    }
   ],
   "source": [
    "#2 Handle the categorical data in the tips dataset with the relevant approaches such as label-encoding, one hot encoding, ordinal encoding.\n",
    "\n",
    "#One hot encoding\n",
    "import seaborn as sns\n",
    "import pandas as pd\n",
    "tips = sns.load_dataset('tips')\n",
    "print(tips.head())\n",
    "tips_encoded = pd.get_dummies(tips, columns=['sex', 'smoker', 'day'])\n",
    "print(tips_encoded.head())"
   ]
  },
  {
   "cell_type": "code",
   "execution_count": null,
   "metadata": {
    "colab": {
     "base_uri": "https://localhost:8080/"
    },
    "id": "L6FEteZOVZIH",
    "outputId": "f3c993f0-f962-4cd0-e9b7-14e33b2dbeb2"
   },
   "outputs": [
    {
     "name": "stdout",
     "output_type": "stream",
     "text": [
      "     Unnamed: 0  total_bill   tip  sex  smoker  day  time  size\n",
      "0             0       16.99  1.01    0       0    2     0     2\n",
      "1             1         NaN  1.66    1       0    2     0     3\n",
      "2             2       21.01  3.50    1       0    2     0     3\n",
      "3             3       23.68  3.31    1       0    2     0     2\n",
      "4             4       24.59  3.61    0       0    2     0     4\n",
      "..          ...         ...   ...  ...     ...  ...   ...   ...\n",
      "239         239       29.03  5.92    1       0    1     0     3\n",
      "240         240       27.18  2.00    0       1    1     0     2\n",
      "241         241       22.67  2.00    1       1    1     0     2\n",
      "242         242       17.82  1.75    1       0    1     0     2\n",
      "243         243       18.78  3.00    0       0    3     0     2\n",
      "\n",
      "[244 rows x 8 columns]\n"
     ]
    }
   ],
   "source": [
    "#label encoding\n",
    "from sklearn.preprocessing import LabelEncoder\n",
    "categorical_cols = data.select_dtypes(include=['object']).columns\n",
    "label_encoder = LabelEncoder()\n",
    "for col in categorical_cols:\n",
    "    data[col] = label_encoder.fit_transform(data[col])\n",
    "print(data)"
   ]
  },
  {
   "cell_type": "code",
   "execution_count": null,
   "metadata": {
    "colab": {
     "base_uri": "https://localhost:8080/"
    },
    "id": "tseWuDxHV9Uv",
    "outputId": "732a78c3-b53f-4ccd-f44a-420e2746ac15"
   },
   "outputs": [
    {
     "name": "stdout",
     "output_type": "stream",
     "text": [
      "     Unnamed: 0  total_bill   tip     sex smoker  day  time  size\n",
      "0             0       16.99  1.01  Female     No  3.0   1.0     2\n",
      "1             1         NaN  1.66    Male     No  3.0   1.0     3\n",
      "2             2       21.01  3.50    Male     No  3.0   1.0     3\n",
      "3             3       23.68  3.31    Male     No  3.0   1.0     2\n",
      "4             4       24.59  3.61  Female     No  3.0   1.0     4\n",
      "..          ...         ...   ...     ...    ...  ...   ...   ...\n",
      "239         239       29.03  5.92    Male     No  2.0   1.0     3\n",
      "240         240       27.18  2.00  Female    Yes  2.0   1.0     2\n",
      "241         241       22.67  2.00    Male    Yes  2.0   1.0     2\n",
      "242         242       17.82  1.75    Male     No  2.0   1.0     2\n",
      "243         243       18.78  3.00  Female     No  0.0   1.0     2\n",
      "\n",
      "[244 rows x 8 columns]\n"
     ]
    }
   ],
   "source": [
    "#ordinal encoding\n",
    "\n",
    "import pandas as pd\n",
    "from sklearn.preprocessing import OrdinalEncoder\n",
    "tips_df = pd.read_csv(\"tips.csv\")\n",
    "day_order = ['Thur', 'Fri', 'Sat', 'Sun']\n",
    "time_order = ['Lunch', 'Dinner']\n",
    "sex_order = ['Male' , 'Female']\n",
    "smoker_order = ['yes','no']\n",
    "ordinal_categories = {\n",
    "    'day': day_order,\n",
    "    'time': time_order,\n",
    "    'sex': sex_order,\n",
    "    'smoker': smoker_order\n",
    "}\n",
    "ordinal_encoder = OrdinalEncoder(categories=[ordinal_categories[col] for col in ['day', 'time']])\n",
    "tips_df[['day', 'time']] = ordinal_encoder.fit_transform(tips_df[['day', 'time']])\n",
    "print(tips_df)"
   ]
  },
  {
   "cell_type": "code",
   "execution_count": 1,
   "metadata": {
    "colab": {
     "base_uri": "https://localhost:8080/"
    },
    "id": "-eN68qOFW7PX",
    "outputId": "421a7f73-1f98-4eea-d1fe-f36e6bf377d5"
   },
   "outputs": [
    {
     "name": "stdout",
     "output_type": "stream",
     "text": [
      "   total_bill   tip     sex smoker  day    time  size\n",
      "0       16.99  1.01  Female     No  Sun  Dinner     2\n",
      "1       10.34  1.66    Male     No  Sun  Dinner     3\n",
      "2       21.01  3.50    Male     No  Sun  Dinner     3\n",
      "3       23.68  3.31    Male     No  Sun  Dinner     2\n",
      "4       24.59  3.61  Female     No  Sun  Dinner     4\n"
     ]
    }
   ],
   "source": [
    "#3 Perform feature scaling techniques such as min-max normalization, standardization, z-score, onthe tips dataset.\n",
    "import pandas as pd\n",
    "import seaborn as sns\n",
    "tips = sns.load_dataset('tips')\n",
    "print(tips.head())"
   ]
  },
  {
   "cell_type": "code",
   "execution_count": 2,
   "metadata": {
    "colab": {
     "base_uri": "https://localhost:8080/"
    },
    "id": "ATDfsq1ruM6E",
    "outputId": "c26f476c-8baf-47c9-9ef6-a0d46a8bb066"
   },
   "outputs": [
    {
     "name": "stdout",
     "output_type": "stream",
     "text": [
      "   total_bill   tip     sex smoker  day    time  size  total_bill_scaled  \\\n",
      "0       16.99  1.01  Female     No  Sun  Dinner     2           0.291579   \n",
      "1       10.34  1.66    Male     No  Sun  Dinner     3           0.152283   \n",
      "2       21.01  3.50    Male     No  Sun  Dinner     3           0.375786   \n",
      "3       23.68  3.31    Male     No  Sun  Dinner     2           0.431713   \n",
      "4       24.59  3.61  Female     No  Sun  Dinner     4           0.450775   \n",
      "\n",
      "   tip_scaled  \n",
      "0    0.001111  \n",
      "1    0.073333  \n",
      "2    0.277778  \n",
      "3    0.256667  \n",
      "4    0.290000  \n"
     ]
    }
   ],
   "source": [
    "#min max normalization\n",
    "\n",
    "from sklearn.preprocessing import MinMaxScaler\n",
    "scaler = MinMaxScaler()\n",
    "scaled_data = scaler.fit_transform(tips[['total_bill', 'tip']])\n",
    "scaled_df = pd.DataFrame(scaled_data, columns=['total_bill_scaled', 'tip_scaled'])\n",
    "scaled_tips = pd.concat([tips, scaled_df], axis=1)\n",
    "print(scaled_tips.head())"
   ]
  },
  {
   "cell_type": "code",
   "execution_count": 3,
   "metadata": {
    "colab": {
     "base_uri": "https://localhost:8080/"
    },
    "id": "vqDGZfL3uXeu",
    "outputId": "baf906d5-3eef-4b15-a288-db7c0d487d22"
   },
   "outputs": [
    {
     "name": "stdout",
     "output_type": "stream",
     "text": [
      "   total_bill   tip     sex smoker  day    time  size  \\\n",
      "0       16.99  1.01  Female     No  Sun  Dinner     2   \n",
      "1       10.34  1.66    Male     No  Sun  Dinner     3   \n",
      "2       21.01  3.50    Male     No  Sun  Dinner     3   \n",
      "3       23.68  3.31    Male     No  Sun  Dinner     2   \n",
      "4       24.59  3.61  Female     No  Sun  Dinner     4   \n",
      "\n",
      "   total_bill_standardized  tip_standardized  \n",
      "0                -0.314711         -1.439947  \n",
      "1                -1.063235         -0.969205  \n",
      "2                 0.137780          0.363356  \n",
      "3                 0.438315          0.225754  \n",
      "4                 0.540745          0.443020  \n"
     ]
    }
   ],
   "source": [
    "#standardization\n",
    "\n",
    "from sklearn.preprocessing import StandardScaler\n",
    "scaler = StandardScaler()\n",
    "standardized_data = scaler.fit_transform(tips[['total_bill', 'tip']])\n",
    "standardized_df = pd.DataFrame(standardized_data, columns=['total_bill_standardized', 'tip_standardized'])\n",
    "standardized_tips = pd.concat([tips, standardized_df], axis=1)\n",
    "print(standardized_tips.head())"
   ]
  },
  {
   "cell_type": "code",
   "execution_count": 4,
   "metadata": {
    "colab": {
     "base_uri": "https://localhost:8080/"
    },
    "id": "0p-JMi5QuhIm",
    "outputId": "b51fc747-5494-4823-87c3-b437a56771ec"
   },
   "outputs": [
    {
     "name": "stdout",
     "output_type": "stream",
     "text": [
      "   total_bill   tip     sex smoker  day    time  size  \\\n",
      "0       16.99  1.01  Female     No  Sun  Dinner     2   \n",
      "1       10.34  1.66    Male     No  Sun  Dinner     3   \n",
      "2       21.01  3.50    Male     No  Sun  Dinner     3   \n",
      "3       23.68  3.31    Male     No  Sun  Dinner     2   \n",
      "4       24.59  3.61  Female     No  Sun  Dinner     4   \n",
      "\n",
      "   total_bill_standardized  tip_standardized  \n",
      "0                -0.314711         -1.439947  \n",
      "1                -1.063235         -0.969205  \n",
      "2                 0.137780          0.363356  \n",
      "3                 0.438315          0.225754  \n",
      "4                 0.540745          0.443020  \n"
     ]
    }
   ],
   "source": [
    "# Z-score normalization\n",
    "\n",
    "print(standardized_tips.head())"
   ]
  },
  {
   "cell_type": "code",
   "execution_count": 5,
   "metadata": {
    "colab": {
     "base_uri": "https://localhost:8080/"
    },
    "id": "WU9JNNPvulsr",
    "outputId": "b197e788-31c0-4db6-d29c-550b9cbd8fa2"
   },
   "outputs": [
    {
     "name": "stdout",
     "output_type": "stream",
     "text": [
      "   party_size  avg_tip_percentage\n",
      "0           1           21.729202\n",
      "1           2           16.571919\n",
      "2           3           15.215685\n",
      "3           4           14.594901\n",
      "4           5           14.149549\n",
      "5           6           15.622920\n"
     ]
    }
   ],
   "source": [
    "#4 Create a new feature representing the average tip percentage for each dining party size.\n",
    "\n",
    "import pandas as pd\n",
    "import seaborn as sns\n",
    "tips = sns.load_dataset('tips')\n",
    "tips['tip_percentage'] = tips['tip'] / tips['total_bill'] * 100\n",
    "average_tip_percentage_by_size = tips.groupby('size')['tip_percentage'].mean().reset_index()\n",
    "average_tip_percentage_by_size.columns = ['party_size', 'avg_tip_percentage']\n",
    "print(average_tip_percentage_by_size)"
   ]
  },
  {
   "cell_type": "code",
   "execution_count": 6,
   "metadata": {
    "colab": {
     "base_uri": "https://localhost:8080/"
    },
    "id": "LSXbUCezu-wQ",
    "outputId": "d95a56ee-8318-46fc-a11b-b3502c49c1f3"
   },
   "outputs": [
    {
     "name": "stdout",
     "output_type": "stream",
     "text": [
      "   total_bill   tip     sex smoker  day    time  size    bill_and_tip_category\n",
      "0       16.99  1.01  Female     No  Sun  Dinner     2             Normal-bills\n",
      "1       10.34  1.66    Male     No  Sun  Dinner     3             Normal-bills\n",
      "2       21.01  3.50    Male     No  Sun  Dinner     3  Highest-bills-with-tips\n",
      "3       23.68  3.31    Male     No  Sun  Dinner     2  Highest-bills-with-tips\n",
      "4       24.59  3.61  Female     No  Sun  Dinner     4  Highest-bills-with-tips\n"
     ]
    }
   ],
   "source": [
    "#5 Create a new feature based on total bill and tips if total bill is greater than 10$ and tips is greater\n",
    "#than 3$ mark as Highest-bills-with-tips otherwise Normal-bills\n",
    "\n",
    "import pandas as pd\n",
    "import seaborn as sns\n",
    "tips = sns.load_dataset('tips')\n",
    "def label_bills(row):\n",
    "    if row['total_bill'] > 10 and row['tip'] > 3:\n",
    "        return 'Highest-bills-with-tips'\n",
    "    else:\n",
    "        return 'Normal-bills'\n",
    "tips['bill_and_tip_category'] = tips.apply(label_bills, axis=1)\n",
    "print(tips.head())"
   ]
  },
  {
   "cell_type": "code",
   "execution_count": null,
   "metadata": {
    "id": "1LZqDkWsvUn6"
   },
   "outputs": [],
   "source": []
  }
 ],
 "metadata": {
  "colab": {
   "provenance": []
  },
  "kernelspec": {
   "display_name": "Python 3 (ipykernel)",
   "language": "python",
   "name": "python3"
  },
  "language_info": {
   "codemirror_mode": {
    "name": "ipython",
    "version": 3
   },
   "file_extension": ".py",
   "mimetype": "text/x-python",
   "name": "python",
   "nbconvert_exporter": "python",
   "pygments_lexer": "ipython3",
   "version": "3.9.12"
  }
 },
 "nbformat": 4,
 "nbformat_minor": 1
}
