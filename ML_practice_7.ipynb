{
 "cells": [
  {
   "cell_type": "code",
   "execution_count": 6,
   "metadata": {
    "colab": {
     "base_uri": "https://localhost:8080/"
    },
    "id": "zGbGVwumUyDX",
    "outputId": "6730f932-dcb8-4ec1-9c64-df30a1b8728d"
   },
   "outputs": [
    {
     "name": "stdout",
     "output_type": "stream",
     "text": [
      "Vector:{:.2f} [0.74013704 0.141731   0.77005797 0.19994571 0.752625  ]\n",
      "Mean:{:.2f} 0.5208993464188436\n",
      "Variance:{:.2f} 0.08212436639440979\n"
     ]
    }
   ],
   "source": [
    "#1 Create a vector (array) of 1XN dimension representing N-dimensional feature vector of a sample. Write a program to\n",
    "# compute the mean and variance of the elements present in the array.\n",
    "import numpy as np\n",
    "def compute_mean_and_variance(vector):\n",
    "    mean = np.mean(vector)\n",
    "    variance = np.var(vector)\n",
    "    return mean, variance\n",
    "\n",
    "# Example usage:\n",
    "N = 5  # Number of dimensions\n",
    "vector = np.random.rand(N)  # Generating a random feature vector of size N\n",
    "print(\"Vector:\",vector)\n",
    "mean, variance = compute_mean_and_variance(vector)\n",
    "print(\"Mean:\", mean)\n",
    "print(\"Variance:\", variance)"
   ]
  },
  {
   "cell_type": "code",
   "execution_count": 3,
   "metadata": {
    "colab": {
     "base_uri": "https://localhost:8080/"
    },
    "id": "OIZXzpdrVEOj",
    "outputId": "ac575979-83e3-4d21-c1d2-179ee46049f4"
   },
   "outputs": [
    {
     "name": "stdout",
     "output_type": "stream",
     "text": [
      "Vector 1: [[0.96828304 0.74395394 0.41152266 0.62103609 0.60088797]]\n",
      "Vector 2: [[0.00565574 0.46514767 0.24471006 0.72164471 0.99238242]]\n",
      "Covariance: -0.025797655420221045\n"
     ]
    }
   ],
   "source": [
    "#2 Create two vectors each of dimension 1XM each representing N-dimensional feature vector of a sample. Write a program to\n",
    "# compute the Covariance between them.\n",
    "\n",
    "import numpy as np\n",
    "\n",
    "def compute_covariance(vector1, vector2):\n",
    "    covariance = np.cov(vector1, vector2, bias=True)[0][1]\n",
    "    return covariance\n",
    "\n",
    "# Example usage:\n",
    "M = 5  # Number of dimensions\n",
    "N = 100  # Number of samples\n",
    "# Generating two random feature vectors of size M\n",
    "vector1 = np.random.rand(1, M)\n",
    "vector2 = np.random.rand(1, M)\n",
    "print(\"Vector 1:\", vector1)\n",
    "print(\"Vector 2:\", vector2)\n",
    "covariance = compute_covariance(vector1, vector2)\n",
    "print(\"Covariance:\", covariance)"
   ]
  },
  {
   "cell_type": "code",
   "execution_count": 4,
   "metadata": {
    "colab": {
     "base_uri": "https://localhost:8080/"
    },
    "id": "VmJJ4hywWFf-",
    "outputId": "03523ccb-fa5b-4e4e-d846-c2ed307f6ce0"
   },
   "outputs": [
    {
     "name": "stdout",
     "output_type": "stream",
     "text": [
      "Vector 1: [0.2556255  0.40488593 0.73015911 0.87891268 0.25358218]\n",
      "Vector 2: [0.81259439 0.4572168  0.5888209  0.10524009 0.20101215]\n",
      "Correlation: -0.38477514762527837\n"
     ]
    }
   ],
   "source": [
    "#3 Create two vectors each of dimension 1XN. Write a program to compute the Correlation between them.\n",
    "\n",
    "import numpy as np\n",
    "\n",
    "def compute_correlation(vector1, vector2):\n",
    "    correlation = np.corrcoef(vector1, vector2)[0, 1]\n",
    "    return correlation\n",
    "\n",
    "# Example usage:\n",
    "N = 5  # Number of dimensions\n",
    "vector1 = np.random.rand(N)  # Generating a random vector of size N\n",
    "vector2 = np.random.rand(N)  # Generating another random vector of size N\n",
    "print(\"Vector 1:\", vector1)\n",
    "print(\"Vector 2:\", vector2)\n",
    "correlation = compute_correlation(vector1, vector2)\n",
    "print(\"Correlation:\", correlation)"
   ]
  },
  {
   "cell_type": "code",
   "execution_count": 7,
   "metadata": {
    "colab": {
     "base_uri": "https://localhost:8080/"
    },
    "id": "IBkR0JZ3WWBi",
    "outputId": "f1a18e98-01ed-4f53-a00e-e1e7f56c10ed"
   },
   "outputs": [
    {
     "name": "stdout",
     "output_type": "stream",
     "text": [
      "Feature matrix:\n",
      "[[0.96306432 0.27531914 0.96001998 0.42293299 0.85873124]\n",
      " [0.6124393  0.66197521 0.79024432 0.96495837 0.00147996]\n",
      " [0.07999097 0.64720465 0.28371629 0.79923399 0.8500426 ]]\n",
      "\n",
      "Covariance matrix:\n",
      "[[ 0.10476233 -0.04239445 -0.06398727]\n",
      " [-0.04239445  0.132854   -0.03463604]\n",
      " [-0.06398727 -0.03463604  0.11294854]]\n",
      "\n",
      "Correlation matrix:\n",
      "[[ 1.         -0.35935122 -0.58823472]\n",
      " [-0.35935122  1.         -0.28274871]\n",
      " [-0.58823472 -0.28274871  1.        ]]\n"
     ]
    }
   ],
   "source": [
    "#4 Create a Matrix of MXN dimension representing the M-dimensional feature vector for N number of samples i. e (i,j)th\n",
    "#entry of the matrix represents the ith feature of jth sample. Write a program to compute the covariance matrix and\n",
    "#correlation matrix.\n",
    "\n",
    "import numpy as np\n",
    "\n",
    "def compute_covariance_matrix(feature_matrix):\n",
    "    covariance_matrix = np.cov(feature_matrix)\n",
    "    return covariance_matrix\n",
    "\n",
    "def compute_correlation_matrix(feature_matrix):\n",
    "    correlation_matrix = np.corrcoef(feature_matrix)\n",
    "    return correlation_matrix\n",
    "\n",
    "# Example usage:\n",
    "M = 3  # Number of dimensions/features\n",
    "N = 5  # Number of samples\n",
    "feature_matrix = np.random.rand(M, N)  # Generating a random feature matrix of size MxN\n",
    "print(\"Feature matrix:\")\n",
    "print(feature_matrix)\n",
    "covariance_matrix = compute_covariance_matrix(feature_matrix)\n",
    "print(\"\\nCovariance matrix:\")\n",
    "print(covariance_matrix)\n",
    "correlation_matrix = compute_correlation_matrix(feature_matrix)\n",
    "print(\"\\nCorrelation matrix:\")\n",
    "print(correlation_matrix)"
   ]
  },
  {
   "cell_type": "code",
   "execution_count": null,
   "metadata": {
    "id": "iqvqVEmqWsy-"
   },
   "outputs": [],
   "source": []
  }
 ],
 "metadata": {
  "colab": {
   "provenance": []
  },
  "kernelspec": {
   "display_name": "Python 3 (ipykernel)",
   "language": "python",
   "name": "python3"
  },
  "language_info": {
   "codemirror_mode": {
    "name": "ipython",
    "version": 3
   },
   "file_extension": ".py",
   "mimetype": "text/x-python",
   "name": "python",
   "nbconvert_exporter": "python",
   "pygments_lexer": "ipython3",
   "version": "3.9.12"
  }
 },
 "nbformat": 4,
 "nbformat_minor": 1
}
