{
 "cells": [
  {
   "cell_type": "markdown",
   "id": "19eca4e6",
   "metadata": {},
   "source": [
    "# NUMPY"
   ]
  },
  {
   "cell_type": "code",
   "execution_count": 1,
   "id": "94ccea66",
   "metadata": {},
   "outputs": [
    {
     "name": "stdout",
     "output_type": "stream",
     "text": [
      "Array 1: [6 4 9 5]\n",
      "Array 2: [5 2 7 1]\n",
      "Result: [30  8 63  5]\n"
     ]
    }
   ],
   "source": [
    "#1 Write a NumPy program to multiply two given arrays of same size element-by-element.\n",
    "import numpy as np\n",
    "array1 = np.array([6, 4, 9, 5])\n",
    "array2 = np.array([5, 2, 7, 1])\n",
    "result = array1 * array2\n",
    "print(\"Array 1:\", array1)\n",
    "print(\"Array 2:\", array2)\n",
    "print(\"Result:\", result)"
   ]
  },
  {
   "cell_type": "code",
   "execution_count": 4,
   "id": "bd0776da",
   "metadata": {},
   "outputs": [
    {
     "name": "stdout",
     "output_type": "stream",
     "text": [
      "Array with missing data: [ 1. nan  3.  4. nan  6.]\n",
      "Indices of missing data: [False  True False False  True False]\n",
      "Missing values: [nan nan]\n"
     ]
    }
   ],
   "source": [
    "#2 Write a NumPy program to find the missing data in a given array.\n",
    "import numpy as np\n",
    "array_with_missing_data = np.array([1, np.nan, 3, 4, np.nan, 6])\n",
    "missing_indices = np.isnan(array_with_missing_data)\n",
    "missing_values = array_with_missing_data[missing_indices]\n",
    "print(\"Array with missing data:\", array_with_missing_data)\n",
    "print(\"Indices of missing data:\", missing_indices)\n",
    "print(\"Missing values:\", missing_values)"
   ]
  },
  {
   "cell_type": "code",
   "execution_count": 5,
   "id": "668bb48e",
   "metadata": {},
   "outputs": [
    {
     "name": "stdout",
     "output_type": "stream",
     "text": [
      "Array 1: [6 4 9 5]\n",
      "Array 2: [5 2 7 1]\n",
      "Presence check: [False False False  True]\n"
     ]
    }
   ],
   "source": [
    "#3 Write a NumPy program to test whether each element of a 1-D array is also present in a second array.\n",
    "import numpy as np\n",
    "array1 = np.array([6, 4, 9, 5])\n",
    "array2 = np.array([5, 2, 7, 1])\n",
    "presence_check = np.in1d(array1, array2)\n",
    "print(\"Array 1:\", array1)\n",
    "print(\"Array 2:\", array2)\n",
    "print(\"Presence check:\", presence_check)"
   ]
  },
  {
   "cell_type": "code",
   "execution_count": 6,
   "id": "633d28cb",
   "metadata": {},
   "outputs": [
    {
     "name": "stdout",
     "output_type": "stream",
     "text": [
      "Array has been saved to array_data.txt\n"
     ]
    }
   ],
   "source": [
    "#4 Write a NumPy program to save a NumPy array to a text file.\n",
    "import numpy as np\n",
    "array_to_save = np.array([[1, 2, 3],\n",
    "                          [4, 5, 6],\n",
    "                          [7, 8, 9]])\n",
    "file_path = \"array_data.txt\"\n",
    "np.savetxt(file_path, array_to_save)\n",
    "print(\"Array has been saved to\", file_path)"
   ]
  },
  {
   "cell_type": "code",
   "execution_count": 5,
   "id": "dfe41a3c",
   "metadata": {},
   "outputs": [
    {
     "name": "stdout",
     "output_type": "stream",
     "text": [
      "1-D array of 30 evenly spaced elements between 2.5 and 6.5 (inclusive):\n",
      "[2.5        2.63793103 2.77586207 2.9137931  3.05172414 3.18965517\n",
      " 3.32758621 3.46551724 3.60344828 3.74137931 3.87931034 4.01724138\n",
      " 4.15517241 4.29310345 4.43103448 4.56896552 4.70689655 4.84482759\n",
      " 4.98275862 5.12068966 5.25862069 5.39655172 5.53448276 5.67241379\n",
      " 5.81034483 5.94827586 6.0862069  6.22413793 6.36206897 6.5       ]\n"
     ]
    }
   ],
   "source": [
    "#5 Write a NumPy program to Create a 1-D array of 30 evenly spaced elements between 2.5. and 6.5, inclusive.\n",
    "import numpy as np\n",
    "array = np.linspace(2.5, 6.5, 30)\n",
    "print(\"1-D array of 30 evenly spaced elements between 2.5 and 6.5 (inclusive):\")\n",
    "print(array)"
   ]
  },
  {
   "cell_type": "markdown",
   "id": "23d9479e",
   "metadata": {},
   "source": [
    "# PANDAS"
   ]
  },
  {
   "cell_type": "code",
   "execution_count": 7,
   "id": "24fe9a11",
   "metadata": {},
   "outputs": [
    {
     "name": "stdout",
     "output_type": "stream",
     "text": [
      "Series of lists:\n",
      "0       [1, 4, 3]\n",
      "1         [4, 12]\n",
      "2    [61, 32, 18]\n",
      "dtype: object\n",
      "\n",
      "Single Series:\n",
      "0     1\n",
      "0     4\n",
      "0     3\n",
      "1     4\n",
      "1    12\n",
      "2    61\n",
      "2    32\n",
      "2    18\n",
      "dtype: object\n"
     ]
    }
   ],
   "source": [
    "#1 Write a Pandas program to convert Series of lists to one Series.\n",
    "import pandas as pd\n",
    "series_of_lists = pd.Series([[1, 4, 3], [4, 12], [61, 32, 18]])\n",
    "single_series = series_of_lists.explode()\n",
    "print(\"Series of lists:\")\n",
    "print(series_of_lists)\n",
    "print(\"\\nSingle Series:\")\n",
    "print(single_series)"
   ]
  },
  {
   "cell_type": "code",
   "execution_count": 8,
   "id": "498a5bfa",
   "metadata": {},
   "outputs": [
    {
     "name": "stdout",
     "output_type": "stream",
     "text": [
      "Original Series:\n",
      "a    1\n",
      "b    2\n",
      "c    3\n",
      "d    4\n",
      "e    5\n",
      "dtype: int64\n",
      "\n",
      "Subset where values are equal to 2\n",
      "b    2\n",
      "dtype: int64\n"
     ]
    }
   ],
   "source": [
    "#2 Write a Pandas program to create a subset of a given series based on value and condition.\n",
    "import pandas as pd\n",
    "data = {'A': [1, 2, 3, 4, 5],\n",
    "        'B': ['a', 'b', 'c', 'd', 'e']}\n",
    "series = pd.Series(data['A'], index=data['B'])\n",
    "condition_value = 2\n",
    "subset = series[series == condition_value]\n",
    "print(\"Original Series:\")\n",
    "print(series)\n",
    "print(\"\\nSubset where values are equal to\", condition_value)\n",
    "print(subset)"
   ]
  },
  {
   "cell_type": "code",
   "execution_count": 27,
   "id": "22a37243",
   "metadata": {},
   "outputs": [
    {
     "name": "stdout",
     "output_type": "stream",
     "text": [
      "Most frequent value: A\n",
      "Modified Series:\n",
      "0        A\n",
      "1    Other\n",
      "2        A\n",
      "3    Other\n",
      "4        A\n",
      "5    Other\n",
      "6    Other\n",
      "dtype: object\n"
     ]
    }
   ],
   "source": [
    "#3 Write a Pandas program to display most frequent value in a given series and replace everything else as 'Other' in the series.\n",
    "import pandas as pd\n",
    "s = pd.Series(['A', 'B', 'A', 'C', 'A', 'D', 'B'])\n",
    "most_frequent = s.value_counts().index[0]\n",
    "s[~s.isin(s.value_counts().index[:1])] = 'Other'\n",
    "print(\"Most frequent value:\", most_frequent)\n",
    "print(\"Modified Series:\")\n",
    "print(s)"
   ]
  },
  {
   "cell_type": "code",
   "execution_count": 15,
   "id": "4cb560db",
   "metadata": {},
   "outputs": [
    {
     "name": "stdout",
     "output_type": "stream",
     "text": [
      "Positions of multiples of 5: Int64Index([0, 3, 5], dtype='int64')\n"
     ]
    }
   ],
   "source": [
    "#4 Write a Pandas program to find the positions of numbers that are multiples of 5 of a given series.\n",
    "import pandas as pd\n",
    "s = pd.Series([10, 2, 12, 30, 19, 15])\n",
    "positions = s.index[s % 5 == 0]\n",
    "print(\"Positions of multiples of 5:\", positions)"
   ]
  },
  {
   "cell_type": "code",
   "execution_count": 26,
   "id": "24908831",
   "metadata": {},
   "outputs": [
    {
     "name": "stdout",
     "output_type": "stream",
     "text": [
      "Character counts:\n",
      "0    5\n",
      "1    4\n",
      "2    3\n",
      "3    4\n",
      "4    3\n",
      "dtype: int64\n"
     ]
    }
   ],
   "source": [
    "#5 Write a Pandas program to calculate the number of characters in each word in a given series.\n",
    "import pandas as pd\n",
    "s = pd.Series(['APPLE', 'BALL', 'CAT', 'DOLL', 'EGG'])\n",
    "char_counts = s.str.len()\n",
    "print(\"Character counts:\")\n",
    "print(char_counts)"
   ]
  },
  {
   "cell_type": "code",
   "execution_count": 11,
   "id": "1dd02325",
   "metadata": {},
   "outputs": [
    {
     "name": "stdout",
     "output_type": "stream",
     "text": [
      "Dates with added day: 0   2023-01-16\n",
      "1   2024-02-16\n",
      "2   2025-03-16\n",
      "dtype: datetime64[ns]\n"
     ]
    }
   ],
   "source": [
    "#6 Write a Pandas program to convert year-month string to dates adding a specified day of the month.\n",
    "import pandas as pd\n",
    "data = [\"2023-01\", \"2024-02\", \"2025-03\"]\n",
    "s = pd.Series(data)\n",
    "day = 15\n",
    "dates = pd.to_datetime(s, format=\"%Y-%m\")\n",
    "dates += pd.to_timedelta(day, unit=\"D\")\n",
    "print(\"Dates with added day:\", dates)"
   ]
  },
  {
   "cell_type": "code",
   "execution_count": 25,
   "id": "c436b4d5",
   "metadata": {},
   "outputs": [
    {
     "name": "stdout",
     "output_type": "stream",
     "text": [
      "       Name  Age           City\n",
      "1  rashmita   20      hyderabad\n",
      "2   haritha   30  machilipatnam\n",
      "3    akhila   38      hyderabad\n"
     ]
    }
   ],
   "source": [
    "#7 Write a Pandas program to create and display a DataFrame from a specified dictionary data which has the index labels.\n",
    "import pandas as pd\n",
    "data = {\n",
    "    \"Name\": [\"rashmita\", \"haritha\", \"akhila\"],\n",
    "    \"Age\": [20, 30, 38],\n",
    "    \"City\": [\"hyderabad\", \"machilipatnam\", \"hyderabad\"],\n",
    "}\n",
    "df = pd.DataFrame(data, index=index_labels)\n",
    "print(df)"
   ]
  },
  {
   "cell_type": "code",
   "execution_count": 21,
   "id": "453f1e2c",
   "metadata": {},
   "outputs": [
    {
     "name": "stdout",
     "output_type": "stream",
     "text": [
      "Original DataFrame:\n",
      "    Student  Attempts\n",
      "0  rashmita         3\n",
      "1   haritha         2\n",
      "2    akhila         2\n",
      "3   sahithi         1\n",
      "\n",
      "Rows where the number of attempts is greater than 2:\n",
      "    Student  Attempts\n",
      "0  rashmita         3\n"
     ]
    }
   ],
   "source": [
    "#8 Write a Pandas program to select the rows where the number of attempts in the examination is greater than 2.\n",
    "import pandas as pd\n",
    "data = {'Student': ['rashmita', 'haritha', 'akhila', 'sahithi'],\n",
    "        'Attempts': [3, 2, 2, 1]}\n",
    "df = pd.DataFrame(data)\n",
    "selected_rows = df[df['Attempts'] > 2]\n",
    "print(\"Original DataFrame:\")\n",
    "print(df)\n",
    "print(\"\\nRows where the number of attempts is greater than 2:\")\n",
    "print(selected_rows)"
   ]
  },
  {
   "cell_type": "code",
   "execution_count": 31,
   "id": "a0d468ef",
   "metadata": {},
   "outputs": [
    {
     "name": "stdout",
     "output_type": "stream",
     "text": [
      "\n",
      "Original DataFrame:\n",
      "    A  B  C\n",
      "0  1  4  7\n",
      "1  2  5  8\n",
      "2  3  6  9\n",
      "DataFrame with new row:\n",
      "     A   B   C\n",
      "0   1   4   7\n",
      "1   2   5   8\n",
      "2   3   6   9\n",
      "3  22  34  62\n",
      "\n",
      "After deletion of row DataFrame:\n",
      "    A  B  C\n",
      "0  1  4  7\n",
      "1  2  5  8\n",
      "2  3  6  9\n"
     ]
    },
    {
     "name": "stderr",
     "output_type": "stream",
     "text": [
      "C:\\Users\\RATAN\\AppData\\Local\\Temp\\ipykernel_21444\\25131779.py:6: FutureWarning: The frame.append method is deprecated and will be removed from pandas in a future version. Use pandas.concat instead.\n",
      "  df = df.append(new_row_values, ignore_index=True)\n"
     ]
    }
   ],
   "source": [
    "#9 Write a Pandas program to append a new row 'k' to data frame with given values for each column. Now delete the new row and return the original DataFrame.\n",
    "import pandas as pd\n",
    "df = pd.DataFrame({'A': [1, 2, 3], 'B': [4, 5, 6], 'C': [7, 8, 9]})\n",
    "new_row_values = {'A': 22, 'B': 34, 'C': 62}\n",
    "print(\"\\nOriginal DataFrame:\\n\", df)\n",
    "df = df.append(new_row_values, ignore_index=True)\n",
    "print(\"DataFrame with new row:\\n\", df)\n",
    "df = df.iloc[:-1]  \n",
    "print(\"\\nAfter deletion of row DataFrame:\\n\", df)"
   ]
  },
  {
   "cell_type": "code",
   "execution_count": 39,
   "id": "f39029ce",
   "metadata": {},
   "outputs": [
    {
     "name": "stdout",
     "output_type": "stream",
     "text": [
      "Names in descending order:\n",
      "       name  score\n",
      "3   sahithi     89\n",
      "0  rashmita     84\n",
      "1   haritha     92\n",
      "4    bindhu     93\n",
      "2    akhila     90\n",
      "Scores in ascending order:\n",
      "       name  score\n",
      "0  rashmita     84\n",
      "3   sahithi     89\n",
      "2    akhila     90\n",
      "1   haritha     92\n",
      "4    bindhu     93\n"
     ]
    }
   ],
   "source": [
    "#10 Write a Pandas program to sort the DataFrame first by 'name' in descending order, then by score in ascending order.\n",
    "import pandas as pd\n",
    "data = {'name': ['rashmita', 'haritha', 'akhila', 'sahithi', 'bindhu'],\n",
    "        'score': [84, 92, 90, 89, 93]}\n",
    "df = pd.DataFrame(data)\n",
    "print(\"Names in descending order:\")\n",
    "df = df.sort_values(by=['name', 'score'], ascending=[False, True])\n",
    "print(df)\n",
    "print(\"Scores in ascending order:\")\n",
    "df = df.sort_values(by=['score', 'name' ], ascending=[True, False])\n",
    "print(df)"
   ]
  },
  {
   "cell_type": "code",
   "execution_count": 41,
   "id": "10223c7d",
   "metadata": {},
   "outputs": [
    {
     "name": "stdout",
     "output_type": "stream",
     "text": [
      "       name  score  qualify\n",
      "0  rashmita     86     True\n",
      "1   haritha     92     True\n",
      "2    akhila     79    False\n",
      "3   sahithi     80    False\n",
      "4    bindhu     84     True\n"
     ]
    }
   ],
   "source": [
    "#11 Write a Pandas program to replace the 'qualify' column contains the values 'yes' and 'no' with True and False.\n",
    "import pandas as pd\n",
    "data = {'name': ['rashmita', 'haritha', 'akhila', 'sahithi', 'bindhu'],\n",
    "        'score': [86, 92, 79, 80, 84],\n",
    "        'qualify': ['yes', 'yes', 'no', 'no', 'yes']}\n",
    "df = pd.DataFrame(data)\n",
    "df['qualify'] = df['qualify'].replace({'yes': True, 'no': False})\n",
    "print(df)"
   ]
  },
  {
   "cell_type": "code",
   "execution_count": 42,
   "id": "18b7fc0e",
   "metadata": {},
   "outputs": [
    {
     "name": "stdout",
     "output_type": "stream",
     "text": [
      "   col1  col2\n",
      "0  21.0  47.0\n",
      "3  72.0  16.0\n"
     ]
    }
   ],
   "source": [
    "#12 Write a Pandas program to remove infinite values from a given DataFrame.\n",
    "import pandas as pd\n",
    "import numpy as np\n",
    "data = {'col1': [21, np.inf, 15, 72, -np.inf],\n",
    "        'col2': [47, 31, np.inf, 16, 47]}\n",
    "df = pd.DataFrame(data)\n",
    "df = df.replace([np.inf, -np.inf], np.nan)\n",
    "df = df.dropna()\n",
    "print(df)"
   ]
  },
  {
   "cell_type": "code",
   "execution_count": null,
   "id": "a975be5e",
   "metadata": {},
   "outputs": [],
   "source": []
  }
 ],
 "metadata": {
  "kernelspec": {
   "display_name": "Python 3 (ipykernel)",
   "language": "python",
   "name": "python3"
  },
  "language_info": {
   "codemirror_mode": {
    "name": "ipython",
    "version": 3
   },
   "file_extension": ".py",
   "mimetype": "text/x-python",
   "name": "python",
   "nbconvert_exporter": "python",
   "pygments_lexer": "ipython3",
   "version": "3.9.12"
  }
 },
 "nbformat": 4,
 "nbformat_minor": 5
}
